{
 "cells": [
  {
   "cell_type": "code",
   "execution_count": null,
   "metadata": {},
   "outputs": [],
   "source": [
    "import pandas as pd\n",
    "\n",
    "file_fpath = \"/exports/lkeb-hpc/jjia/project/project/aimira/aimira/data/TE_TreatmentResponse_cleanforJingnan_2.xlsx\"\n",
    "# read the excel file as a dataframe.\n",
    "df = pd.read_excel(file_fpath)\n",
    "\n",
    "# extract all rows with 'treatment' equals to 1\n",
    "df_trt = df[df['treatment'] == 1]\n",
    "\n",
    "# in the new dataframe, df_trt, select all the rows with VISNUMMER equal to 1\n",
    "df_trt_bl = df_trt[df_trt['VISNUMMER'] == 1]\n",
    "\n",
    "# the remaining rows build a new dataframe called 'df_trt_fu'.\n",
    "df_trt_fu = df_trt[df_trt['VISNUMMER'] != 1]\n",
    "\n",
    "# In df_trt_fu, remove the rows whose 'TENR' value is not in the df_trt_bl.\n",
    "df_trt_fu = df_trt_fu[df_trt_fu['TENR'].isin(df_trt_bl['TENR'])]\n",
    "\n",
    "# use df_trt_fu minus df_trt_bl, get a new dataframe, called df_trt_change.\n",
    "df_trt_change = df_trt_fu.set_index('TENR') - df_trt_bl.set_index('TENR')\n",
    "\n",
    "# Update column names\n",
    "df_trt_change.columns = [str(col) + '_change' for col in df_trt_change.columns]\n",
    "\n",
    "# concatenate df_trt_change to df_trt_bl to make sure their 'TENR' alligned\n",
    "result = pd.concat([df_trt_bl.set_index('TENR'), df_trt_change], axis=1).reset_index()\n",
    "```"
   ]
  }
 ],
 "metadata": {
  "language_info": {
   "name": "python"
  }
 },
 "nbformat": 4,
 "nbformat_minor": 2
}
